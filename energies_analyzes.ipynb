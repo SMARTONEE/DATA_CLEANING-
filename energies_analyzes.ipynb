{
 "cells": [
  {
   "cell_type": "code",
   "execution_count": 22,
   "id": "9d6c593a",
   "metadata": {},
   "outputs": [
    {
     "data": {
      "text/html": [
       "<div>\n",
       "<style scoped>\n",
       "    .dataframe tbody tr th:only-of-type {\n",
       "        vertical-align: middle;\n",
       "    }\n",
       "\n",
       "    .dataframe tbody tr th {\n",
       "        vertical-align: top;\n",
       "    }\n",
       "\n",
       "    .dataframe thead th {\n",
       "        text-align: right;\n",
       "    }\n",
       "</style>\n",
       "<table border=\"1\" class=\"dataframe\">\n",
       "  <thead>\n",
       "    <tr style=\"text-align: right;\">\n",
       "      <th></th>\n",
       "      <th>SITE_NAME</th>\n",
       "      <th>INVOICE_NAME</th>\n",
       "      <th>BEGIN</th>\n",
       "      <th>END</th>\n",
       "      <th>KWH_PERIOD</th>\n",
       "      <th>PERIOD_EUR</th>\n",
       "    </tr>\n",
       "  </thead>\n",
       "  <tbody>\n",
       "    <tr>\n",
       "      <th>0</th>\n",
       "      <td>12345_GEO (0001BB)</td>\n",
       "      <td>1300082549</td>\n",
       "      <td>01/01/2018</td>\n",
       "      <td>31/01/2018</td>\n",
       "      <td>2 447</td>\n",
       "      <td>316,46</td>\n",
       "    </tr>\n",
       "    <tr>\n",
       "      <th>1</th>\n",
       "      <td>12345_GEO (0001BB)</td>\n",
       "      <td>1300082549</td>\n",
       "      <td>01/02/2018</td>\n",
       "      <td>28/02/2018</td>\n",
       "      <td>2 211</td>\n",
       "      <td>286,82</td>\n",
       "    </tr>\n",
       "    <tr>\n",
       "      <th>2</th>\n",
       "      <td>12345_GEO (0001BB)</td>\n",
       "      <td>1300082549</td>\n",
       "      <td>01/03/2018</td>\n",
       "      <td>31/03/2018</td>\n",
       "      <td>2 450</td>\n",
       "      <td>317,32</td>\n",
       "    </tr>\n",
       "    <tr>\n",
       "      <th>3</th>\n",
       "      <td>12345_GEO (0001BB)</td>\n",
       "      <td>1300082549</td>\n",
       "      <td>01/04/2018</td>\n",
       "      <td>30/04/2018</td>\n",
       "      <td>2 431</td>\n",
       "      <td>315,00</td>\n",
       "    </tr>\n",
       "    <tr>\n",
       "      <th>4</th>\n",
       "      <td>12345_GEO (0001BB)</td>\n",
       "      <td>1300082549</td>\n",
       "      <td>01/05/2018</td>\n",
       "      <td>31/05/2018</td>\n",
       "      <td>2 574</td>\n",
       "      <td>333,37</td>\n",
       "    </tr>\n",
       "  </tbody>\n",
       "</table>\n",
       "</div>"
      ],
      "text/plain": [
       "            SITE_NAME INVOICE_NAME       BEGIN         END KWH_PERIOD  \\\n",
       "0  12345_GEO (0001BB)   1300082549  01/01/2018  31/01/2018      2 447   \n",
       "1  12345_GEO (0001BB)   1300082549  01/02/2018  28/02/2018      2 211   \n",
       "2  12345_GEO (0001BB)   1300082549  01/03/2018  31/03/2018      2 450   \n",
       "3  12345_GEO (0001BB)   1300082549  01/04/2018  30/04/2018      2 431   \n",
       "4  12345_GEO (0001BB)   1300082549  01/05/2018  31/05/2018      2 574   \n",
       "\n",
       "  PERIOD_EUR  \n",
       "0     316,46  \n",
       "1     286,82  \n",
       "2     317,32  \n",
       "3     315,00  \n",
       "4     333,37  "
      ]
     },
     "execution_count": 22,
     "metadata": {},
     "output_type": "execute_result"
    }
   ],
   "source": [
    "import pandas as pd\n",
    "import numpy as np\n",
    "import re\n",
    "\n",
    "df = pd.read_csv(\"Invoice_20201220.csv\", sep=\"|\", encoding=\"latin-1\")\n",
    "df.head()"
   ]
  },
  {
   "cell_type": "markdown",
   "id": "814ea540",
   "metadata": {},
   "source": [
    "###  1) Le nom d'une antenne a un format bien précis : il est toujours composé de 4 chiffres et de deux lettres. On te demande de retirer tout autre caractère de la colonne \"SITE_NAME\"."
   ]
  },
  {
   "cell_type": "code",
   "execution_count": 23,
   "id": "37986ab9",
   "metadata": {},
   "outputs": [
    {
     "data": {
      "text/html": [
       "<div>\n",
       "<style scoped>\n",
       "    .dataframe tbody tr th:only-of-type {\n",
       "        vertical-align: middle;\n",
       "    }\n",
       "\n",
       "    .dataframe tbody tr th {\n",
       "        vertical-align: top;\n",
       "    }\n",
       "\n",
       "    .dataframe thead th {\n",
       "        text-align: right;\n",
       "    }\n",
       "</style>\n",
       "<table border=\"1\" class=\"dataframe\">\n",
       "  <thead>\n",
       "    <tr style=\"text-align: right;\">\n",
       "      <th></th>\n",
       "      <th>SITE_NAME</th>\n",
       "      <th>INVOICE_NAME</th>\n",
       "      <th>BEGIN</th>\n",
       "      <th>END</th>\n",
       "      <th>KWH_PERIOD</th>\n",
       "      <th>PERIOD_EUR</th>\n",
       "    </tr>\n",
       "  </thead>\n",
       "  <tbody>\n",
       "    <tr>\n",
       "      <th>0</th>\n",
       "      <td>0001BB</td>\n",
       "      <td>1300082549</td>\n",
       "      <td>01/01/2018</td>\n",
       "      <td>31/01/2018</td>\n",
       "      <td>2 447</td>\n",
       "      <td>316,46</td>\n",
       "    </tr>\n",
       "    <tr>\n",
       "      <th>1</th>\n",
       "      <td>0001BB</td>\n",
       "      <td>1300082549</td>\n",
       "      <td>01/02/2018</td>\n",
       "      <td>28/02/2018</td>\n",
       "      <td>2 211</td>\n",
       "      <td>286,82</td>\n",
       "    </tr>\n",
       "    <tr>\n",
       "      <th>2</th>\n",
       "      <td>0001BB</td>\n",
       "      <td>1300082549</td>\n",
       "      <td>01/03/2018</td>\n",
       "      <td>31/03/2018</td>\n",
       "      <td>2 450</td>\n",
       "      <td>317,32</td>\n",
       "    </tr>\n",
       "    <tr>\n",
       "      <th>3</th>\n",
       "      <td>0001BB</td>\n",
       "      <td>1300082549</td>\n",
       "      <td>01/04/2018</td>\n",
       "      <td>30/04/2018</td>\n",
       "      <td>2 431</td>\n",
       "      <td>315,00</td>\n",
       "    </tr>\n",
       "    <tr>\n",
       "      <th>4</th>\n",
       "      <td>0001BB</td>\n",
       "      <td>1300082549</td>\n",
       "      <td>01/05/2018</td>\n",
       "      <td>31/05/2018</td>\n",
       "      <td>2 574</td>\n",
       "      <td>333,37</td>\n",
       "    </tr>\n",
       "    <tr>\n",
       "      <th>...</th>\n",
       "      <td>...</td>\n",
       "      <td>...</td>\n",
       "      <td>...</td>\n",
       "      <td>...</td>\n",
       "      <td>...</td>\n",
       "      <td>...</td>\n",
       "    </tr>\n",
       "    <tr>\n",
       "      <th>51427</th>\n",
       "      <td>0632KO</td>\n",
       "      <td>FV1/055100030</td>\n",
       "      <td>30/08/2019</td>\n",
       "      <td>31/12/2019</td>\n",
       "      <td>3 028</td>\n",
       "      <td>397,18</td>\n",
       "    </tr>\n",
       "    <tr>\n",
       "      <th>51428</th>\n",
       "      <td>0632KO</td>\n",
       "      <td>055100058</td>\n",
       "      <td>01/01/2020</td>\n",
       "      <td>31/03/2020</td>\n",
       "      <td>2 163</td>\n",
       "      <td>283,57</td>\n",
       "    </tr>\n",
       "    <tr>\n",
       "      <th>51429</th>\n",
       "      <td>0632KO</td>\n",
       "      <td>055100113</td>\n",
       "      <td>01/04/2020</td>\n",
       "      <td>30/06/2020</td>\n",
       "      <td>2 160</td>\n",
       "      <td>312,55</td>\n",
       "    </tr>\n",
       "    <tr>\n",
       "      <th>51430</th>\n",
       "      <td>0632KO</td>\n",
       "      <td>055100168</td>\n",
       "      <td>01/07/2020</td>\n",
       "      <td>30/09/2020</td>\n",
       "      <td>2 230</td>\n",
       "      <td>294,07</td>\n",
       "    </tr>\n",
       "    <tr>\n",
       "      <th>51431</th>\n",
       "      <td>1203KO</td>\n",
       "      <td>7220278453</td>\n",
       "      <td>27/09/2019</td>\n",
       "      <td>31/12/2019</td>\n",
       "      <td>4 745</td>\n",
       "      <td>681,96</td>\n",
       "    </tr>\n",
       "  </tbody>\n",
       "</table>\n",
       "<p>51432 rows × 6 columns</p>\n",
       "</div>"
      ],
      "text/plain": [
       "      SITE_NAME   INVOICE_NAME       BEGIN         END KWH_PERIOD PERIOD_EUR\n",
       "0        0001BB     1300082549  01/01/2018  31/01/2018      2 447     316,46\n",
       "1        0001BB     1300082549  01/02/2018  28/02/2018      2 211     286,82\n",
       "2        0001BB     1300082549  01/03/2018  31/03/2018      2 450     317,32\n",
       "3        0001BB     1300082549  01/04/2018  30/04/2018      2 431     315,00\n",
       "4        0001BB     1300082549  01/05/2018  31/05/2018      2 574     333,37\n",
       "...         ...            ...         ...         ...        ...        ...\n",
       "51427    0632KO  FV1/055100030  30/08/2019  31/12/2019      3 028     397,18\n",
       "51428    0632KO      055100058  01/01/2020  31/03/2020      2 163     283,57\n",
       "51429    0632KO      055100113  01/04/2020  30/06/2020      2 160     312,55\n",
       "51430    0632KO      055100168  01/07/2020  30/09/2020      2 230     294,07\n",
       "51431    1203KO     7220278453  27/09/2019  31/12/2019      4 745     681,96\n",
       "\n",
       "[51432 rows x 6 columns]"
      ]
     },
     "execution_count": 23,
     "metadata": {},
     "output_type": "execute_result"
    }
   ],
   "source": [
    "# 1) Le nom d'une antenne a un format bien précis : il est toujours composé de 4 chiffres et de deux lettres. On te demande de retirer tout autre caractère de la colonne \"SITE_NAME\".\n",
    "df['SITE_NAME'] = df['SITE_NAME'].str[11:17]\n",
    "\n",
    "def clean_site_name(site_name):\n",
    "    result = re.search(\"\\d{4}[a-zA-Z]{2}\", site_name)\n",
    "    if result is None:\n",
    "        return np.NaN\n",
    "    else:\n",
    "        return site_name\n",
    "    return result\n",
    "\n",
    "df[\"SITE_NAME\"] = [clean_site_name(site_name) for site_name in df[\"SITE_NAME\"]]\n",
    "df"
   ]
  },
  {
   "cell_type": "markdown",
   "id": "c979ab25",
   "metadata": {},
   "source": [
    "### 2) Suppresion de invoice name "
   ]
  },
  {
   "cell_type": "code",
   "execution_count": 90,
   "id": "fb0b5ce1",
   "metadata": {},
   "outputs": [],
   "source": [
    "df = df.drop(['INVOICE_NAME'], axis = 1)"
   ]
  },
  {
   "cell_type": "markdown",
   "id": "c28ff236",
   "metadata": {},
   "source": [
    "### 3) Il y a des antennes pour lesquelles on a des factures mensuelles tandis que pour d'autres, on les reçoit moins régulièrement (trimestre, semestre, année). Ajoute une colonne à ton tableau qui calcule le nombre de jours entre le début de la période de facturation et la fin de la période de facturation. "
   ]
  },
  {
   "cell_type": "code",
   "execution_count": 63,
   "id": "d14e3492",
   "metadata": {},
   "outputs": [
    {
     "data": {
      "text/html": [
       "<div>\n",
       "<style scoped>\n",
       "    .dataframe tbody tr th:only-of-type {\n",
       "        vertical-align: middle;\n",
       "    }\n",
       "\n",
       "    .dataframe tbody tr th {\n",
       "        vertical-align: top;\n",
       "    }\n",
       "\n",
       "    .dataframe thead th {\n",
       "        text-align: right;\n",
       "    }\n",
       "</style>\n",
       "<table border=\"1\" class=\"dataframe\">\n",
       "  <thead>\n",
       "    <tr style=\"text-align: right;\">\n",
       "      <th></th>\n",
       "      <th>SITE_NAME</th>\n",
       "      <th>INVOICE_NAME</th>\n",
       "      <th>BEGIN</th>\n",
       "      <th>END</th>\n",
       "      <th>KWH_PERIOD</th>\n",
       "      <th>PERIOD_EUR</th>\n",
       "      <th>new</th>\n",
       "    </tr>\n",
       "  </thead>\n",
       "  <tbody>\n",
       "    <tr>\n",
       "      <th>0</th>\n",
       "      <td>0001BB</td>\n",
       "      <td>1300082549</td>\n",
       "      <td>2018-01-01</td>\n",
       "      <td>2018-01-31</td>\n",
       "      <td>2447</td>\n",
       "      <td>316,46</td>\n",
       "      <td>30 days</td>\n",
       "    </tr>\n",
       "    <tr>\n",
       "      <th>1</th>\n",
       "      <td>0001BB</td>\n",
       "      <td>1300082549</td>\n",
       "      <td>2018-02-01</td>\n",
       "      <td>2018-02-28</td>\n",
       "      <td>2211</td>\n",
       "      <td>286,82</td>\n",
       "      <td>27 days</td>\n",
       "    </tr>\n",
       "    <tr>\n",
       "      <th>2</th>\n",
       "      <td>0001BB</td>\n",
       "      <td>1300082549</td>\n",
       "      <td>2018-03-01</td>\n",
       "      <td>2018-03-31</td>\n",
       "      <td>2450</td>\n",
       "      <td>317,32</td>\n",
       "      <td>30 days</td>\n",
       "    </tr>\n",
       "    <tr>\n",
       "      <th>3</th>\n",
       "      <td>0001BB</td>\n",
       "      <td>1300082549</td>\n",
       "      <td>2018-04-01</td>\n",
       "      <td>2018-04-30</td>\n",
       "      <td>2431</td>\n",
       "      <td>315,00</td>\n",
       "      <td>29 days</td>\n",
       "    </tr>\n",
       "    <tr>\n",
       "      <th>4</th>\n",
       "      <td>0001BB</td>\n",
       "      <td>1300082549</td>\n",
       "      <td>2018-05-01</td>\n",
       "      <td>2018-05-31</td>\n",
       "      <td>2574</td>\n",
       "      <td>333,37</td>\n",
       "      <td>30 days</td>\n",
       "    </tr>\n",
       "  </tbody>\n",
       "</table>\n",
       "</div>"
      ],
      "text/plain": [
       "  SITE_NAME INVOICE_NAME      BEGIN        END  KWH_PERIOD PERIOD_EUR     new\n",
       "0    0001BB   1300082549 2018-01-01 2018-01-31        2447     316,46 30 days\n",
       "1    0001BB   1300082549 2018-02-01 2018-02-28        2211     286,82 27 days\n",
       "2    0001BB   1300082549 2018-03-01 2018-03-31        2450     317,32 30 days\n",
       "3    0001BB   1300082549 2018-04-01 2018-04-30        2431     315,00 29 days\n",
       "4    0001BB   1300082549 2018-05-01 2018-05-31        2574     333,37 30 days"
      ]
     },
     "execution_count": 63,
     "metadata": {},
     "output_type": "execute_result"
    }
   ],
   "source": [
    "df[\"BEGIN\"] = pd.to_datetime(df[\"BEGIN\"], format=\"%d/%m/%Y\")\n",
    "df[\"END\"] = pd.to_datetime(df[\"END\"], format=\"%d/%m/%Y\")\n",
    "df.head()"
   ]
  },
  {
   "cell_type": "code",
   "execution_count": 61,
   "id": "c8f09157",
   "metadata": {},
   "outputs": [],
   "source": [
    "df['new'] = df[\"END\"] - df[\"BEGIN\"] "
   ]
  },
  {
   "cell_type": "markdown",
   "id": "50b8b506",
   "metadata": {},
   "source": [
    "### 4) A partir de cette nouvelle colonne, crée une autre colonne qui nous donne la consommation journalière moyenne de la période."
   ]
  },
  {
   "cell_type": "code",
   "execution_count": 69,
   "id": "434020a3",
   "metadata": {},
   "outputs": [],
   "source": [
    "# df['KWH_PERIOD'] = df['KWH_PERIOD'].str.replace(' ', '').astype(int)\n",
    "# df['new'] = df['new'].astype('timedelta64[D]').astype(int)"
   ]
  },
  {
   "cell_type": "code",
   "execution_count": 66,
   "id": "cc5c6b7f",
   "metadata": {},
   "outputs": [],
   "source": [
    "df['conso_mean'] = df['KWH_PERIOD'] / (df['new'].astype('timedelta64[D]').astype(int))"
   ]
  },
  {
   "cell_type": "code",
   "execution_count": 77,
   "id": "6daf59dc",
   "metadata": {},
   "outputs": [],
   "source": [
    "df['conso_mean'] = df['conso_mean'].round(decimals = 2)"
   ]
  },
  {
   "cell_type": "markdown",
   "id": "cdff61dd",
   "metadata": {},
   "source": [
    "### 5) Merci d'ajouter également une colonne qui donne, pour chaque antenne, le nombre de factures dont on dispose au total. Pas grave si l'information se répète à chaque ligne pour une même antenne."
   ]
  },
  {
   "cell_type": "code",
   "execution_count": 98,
   "id": "cdaad102",
   "metadata": {},
   "outputs": [],
   "source": [
    "df['freq_site'] = df.groupby('SITE_NAME')['SITE_NAME'].transform('count')"
   ]
  },
  {
   "cell_type": "markdown",
   "id": "68ad3b03",
   "metadata": {},
   "source": [
    "### 6) Et information bonus si tu y arrives : les équipes aimeraient beaucoup avoir une liste de toutes les antennes avec, pour chaque antenne, le coefficient de variation de la consommation. Cela permettra d'avoir une idée, pour chaque antenne, de la dispersion de sa consommation d'énergie."
   ]
  },
  {
   "cell_type": "code",
   "execution_count": 100,
   "id": "ebe40df1",
   "metadata": {},
   "outputs": [
    {
     "data": {
      "text/plain": [
       "0        99095.0\n",
       "1        99095.0\n",
       "2        99095.0\n",
       "3        99095.0\n",
       "4        99095.0\n",
       "          ...   \n",
       "51427     9581.0\n",
       "51428     9581.0\n",
       "51429     9581.0\n",
       "51430     9581.0\n",
       "51431     4745.0\n",
       "Name: KWH_PERIOD, Length: 51432, dtype: float64"
      ]
     },
     "execution_count": 100,
     "metadata": {},
     "output_type": "execute_result"
    }
   ],
   "source": [
    "df.groupby('SITE_NAME')['KWH_PERIOD'].transform('sum')"
   ]
  },
  {
   "cell_type": "code",
   "execution_count": 108,
   "id": "eda22e2e",
   "metadata": {},
   "outputs": [
    {
     "name": "stdout",
     "output_type": "stream",
     "text": [
      "SITE_NAME\n",
      "0001BB      7.412620\n",
      "0001BR      6.006796\n",
      "0001KO     11.163076\n",
      "0002BB      7.507342\n",
      "0002BR      8.952184\n",
      "             ...    \n",
      "9513BB      0.376722\n",
      "9515BB    117.872141\n",
      "9516BB      1.812700\n",
      "9517BB      0.055898\n",
      "9518BB      0.311913\n",
      "Name: KWH_PERIOD, Length: 2402, dtype: float64\n"
     ]
    }
   ],
   "source": [
    "print(df.groupby('SITE_NAME')[\"KWH_PERIOD\"].std()/df.groupby('SITE_NAME')[\"KWH_PERIOD\"].mean()*100)"
   ]
  },
  {
   "cell_type": "code",
   "execution_count": null,
   "id": "7f2f26be",
   "metadata": {},
   "outputs": [],
   "source": []
  }
 ],
 "metadata": {
  "kernelspec": {
   "display_name": "Python 3 (ipykernel)",
   "language": "python",
   "name": "python3"
  },
  "language_info": {
   "codemirror_mode": {
    "name": "ipython",
    "version": 3
   },
   "file_extension": ".py",
   "mimetype": "text/x-python",
   "name": "python",
   "nbconvert_exporter": "python",
   "pygments_lexer": "ipython3",
   "version": "3.9.12"
  }
 },
 "nbformat": 4,
 "nbformat_minor": 5
}
