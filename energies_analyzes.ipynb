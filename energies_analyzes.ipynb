{
 "cells": [
  {
   "cell_type": "code",
   "execution_count": 127,
   "id": "9d6c593a",
   "metadata": {},
   "outputs": [
    {
     "data": {
      "text/html": [
       "<div>\n",
       "<style scoped>\n",
       "    .dataframe tbody tr th:only-of-type {\n",
       "        vertical-align: middle;\n",
       "    }\n",
       "\n",
       "    .dataframe tbody tr th {\n",
       "        vertical-align: top;\n",
       "    }\n",
       "\n",
       "    .dataframe thead th {\n",
       "        text-align: right;\n",
       "    }\n",
       "</style>\n",
       "<table border=\"1\" class=\"dataframe\">\n",
       "  <thead>\n",
       "    <tr style=\"text-align: right;\">\n",
       "      <th></th>\n",
       "      <th>SITE_NAME</th>\n",
       "      <th>INVOICE_NAME</th>\n",
       "      <th>BEGIN</th>\n",
       "      <th>END</th>\n",
       "      <th>KWH_PERIOD</th>\n",
       "      <th>PERIOD_EUR</th>\n",
       "    </tr>\n",
       "  </thead>\n",
       "  <tbody>\n",
       "    <tr>\n",
       "      <th>0</th>\n",
       "      <td>12345_GEO (0001BB)</td>\n",
       "      <td>1300082549</td>\n",
       "      <td>01/01/2018</td>\n",
       "      <td>31/01/2018</td>\n",
       "      <td>2 447</td>\n",
       "      <td>316,46</td>\n",
       "    </tr>\n",
       "    <tr>\n",
       "      <th>1</th>\n",
       "      <td>12345_GEO (0001BB)</td>\n",
       "      <td>1300082549</td>\n",
       "      <td>01/02/2018</td>\n",
       "      <td>28/02/2018</td>\n",
       "      <td>2 211</td>\n",
       "      <td>286,82</td>\n",
       "    </tr>\n",
       "    <tr>\n",
       "      <th>2</th>\n",
       "      <td>12345_GEO (0001BB)</td>\n",
       "      <td>1300082549</td>\n",
       "      <td>01/03/2018</td>\n",
       "      <td>31/03/2018</td>\n",
       "      <td>2 450</td>\n",
       "      <td>317,32</td>\n",
       "    </tr>\n",
       "    <tr>\n",
       "      <th>3</th>\n",
       "      <td>12345_GEO (0001BB)</td>\n",
       "      <td>1300082549</td>\n",
       "      <td>01/04/2018</td>\n",
       "      <td>30/04/2018</td>\n",
       "      <td>2 431</td>\n",
       "      <td>315,00</td>\n",
       "    </tr>\n",
       "    <tr>\n",
       "      <th>4</th>\n",
       "      <td>12345_GEO (0001BB)</td>\n",
       "      <td>1300082549</td>\n",
       "      <td>01/05/2018</td>\n",
       "      <td>31/05/2018</td>\n",
       "      <td>2 574</td>\n",
       "      <td>333,37</td>\n",
       "    </tr>\n",
       "  </tbody>\n",
       "</table>\n",
       "</div>"
      ],
      "text/plain": [
       "            SITE_NAME INVOICE_NAME       BEGIN         END KWH_PERIOD  \\\n",
       "0  12345_GEO (0001BB)   1300082549  01/01/2018  31/01/2018      2 447   \n",
       "1  12345_GEO (0001BB)   1300082549  01/02/2018  28/02/2018      2 211   \n",
       "2  12345_GEO (0001BB)   1300082549  01/03/2018  31/03/2018      2 450   \n",
       "3  12345_GEO (0001BB)   1300082549  01/04/2018  30/04/2018      2 431   \n",
       "4  12345_GEO (0001BB)   1300082549  01/05/2018  31/05/2018      2 574   \n",
       "\n",
       "  PERIOD_EUR  \n",
       "0     316,46  \n",
       "1     286,82  \n",
       "2     317,32  \n",
       "3     315,00  \n",
       "4     333,37  "
      ]
     },
     "execution_count": 127,
     "metadata": {},
     "output_type": "execute_result"
    }
   ],
   "source": [
    "import pandas as pd\n",
    "import numpy as np\n",
    "import re\n",
    "\n",
    "df = pd.read_csv(\"Invoice_20201220.csv\", sep=\"|\", encoding=\"latin-1\")\n",
    "df.head()"
   ]
  },
  {
   "cell_type": "markdown",
   "id": "814ea540",
   "metadata": {},
   "source": [
    "###  1) Le nom d'une antenne a un format bien précis : il est toujours composé de 4 chiffres et de deux lettres. On te demande de retirer tout autre caractère de la colonne \"SITE_NAME\"."
   ]
  },
  {
   "cell_type": "code",
   "execution_count": 128,
   "id": "37986ab9",
   "metadata": {},
   "outputs": [
    {
     "data": {
      "text/html": [
       "<div>\n",
       "<style scoped>\n",
       "    .dataframe tbody tr th:only-of-type {\n",
       "        vertical-align: middle;\n",
       "    }\n",
       "\n",
       "    .dataframe tbody tr th {\n",
       "        vertical-align: top;\n",
       "    }\n",
       "\n",
       "    .dataframe thead th {\n",
       "        text-align: right;\n",
       "    }\n",
       "</style>\n",
       "<table border=\"1\" class=\"dataframe\">\n",
       "  <thead>\n",
       "    <tr style=\"text-align: right;\">\n",
       "      <th></th>\n",
       "      <th>SITE_NAME</th>\n",
       "      <th>INVOICE_NAME</th>\n",
       "      <th>BEGIN</th>\n",
       "      <th>END</th>\n",
       "      <th>KWH_PERIOD</th>\n",
       "      <th>PERIOD_EUR</th>\n",
       "    </tr>\n",
       "  </thead>\n",
       "  <tbody>\n",
       "    <tr>\n",
       "      <th>0</th>\n",
       "      <td>0001BB</td>\n",
       "      <td>1300082549</td>\n",
       "      <td>01/01/2018</td>\n",
       "      <td>31/01/2018</td>\n",
       "      <td>2 447</td>\n",
       "      <td>316,46</td>\n",
       "    </tr>\n",
       "    <tr>\n",
       "      <th>1</th>\n",
       "      <td>0001BB</td>\n",
       "      <td>1300082549</td>\n",
       "      <td>01/02/2018</td>\n",
       "      <td>28/02/2018</td>\n",
       "      <td>2 211</td>\n",
       "      <td>286,82</td>\n",
       "    </tr>\n",
       "    <tr>\n",
       "      <th>2</th>\n",
       "      <td>0001BB</td>\n",
       "      <td>1300082549</td>\n",
       "      <td>01/03/2018</td>\n",
       "      <td>31/03/2018</td>\n",
       "      <td>2 450</td>\n",
       "      <td>317,32</td>\n",
       "    </tr>\n",
       "    <tr>\n",
       "      <th>3</th>\n",
       "      <td>0001BB</td>\n",
       "      <td>1300082549</td>\n",
       "      <td>01/04/2018</td>\n",
       "      <td>30/04/2018</td>\n",
       "      <td>2 431</td>\n",
       "      <td>315,00</td>\n",
       "    </tr>\n",
       "    <tr>\n",
       "      <th>4</th>\n",
       "      <td>0001BB</td>\n",
       "      <td>1300082549</td>\n",
       "      <td>01/05/2018</td>\n",
       "      <td>31/05/2018</td>\n",
       "      <td>2 574</td>\n",
       "      <td>333,37</td>\n",
       "    </tr>\n",
       "    <tr>\n",
       "      <th>...</th>\n",
       "      <td>...</td>\n",
       "      <td>...</td>\n",
       "      <td>...</td>\n",
       "      <td>...</td>\n",
       "      <td>...</td>\n",
       "      <td>...</td>\n",
       "    </tr>\n",
       "    <tr>\n",
       "      <th>51427</th>\n",
       "      <td>0632KO</td>\n",
       "      <td>FV1/055100030</td>\n",
       "      <td>30/08/2019</td>\n",
       "      <td>31/12/2019</td>\n",
       "      <td>3 028</td>\n",
       "      <td>397,18</td>\n",
       "    </tr>\n",
       "    <tr>\n",
       "      <th>51428</th>\n",
       "      <td>0632KO</td>\n",
       "      <td>055100058</td>\n",
       "      <td>01/01/2020</td>\n",
       "      <td>31/03/2020</td>\n",
       "      <td>2 163</td>\n",
       "      <td>283,57</td>\n",
       "    </tr>\n",
       "    <tr>\n",
       "      <th>51429</th>\n",
       "      <td>0632KO</td>\n",
       "      <td>055100113</td>\n",
       "      <td>01/04/2020</td>\n",
       "      <td>30/06/2020</td>\n",
       "      <td>2 160</td>\n",
       "      <td>312,55</td>\n",
       "    </tr>\n",
       "    <tr>\n",
       "      <th>51430</th>\n",
       "      <td>0632KO</td>\n",
       "      <td>055100168</td>\n",
       "      <td>01/07/2020</td>\n",
       "      <td>30/09/2020</td>\n",
       "      <td>2 230</td>\n",
       "      <td>294,07</td>\n",
       "    </tr>\n",
       "    <tr>\n",
       "      <th>51431</th>\n",
       "      <td>1203KO</td>\n",
       "      <td>7220278453</td>\n",
       "      <td>27/09/2019</td>\n",
       "      <td>31/12/2019</td>\n",
       "      <td>4 745</td>\n",
       "      <td>681,96</td>\n",
       "    </tr>\n",
       "  </tbody>\n",
       "</table>\n",
       "<p>51432 rows × 6 columns</p>\n",
       "</div>"
      ],
      "text/plain": [
       "      SITE_NAME   INVOICE_NAME       BEGIN         END KWH_PERIOD PERIOD_EUR\n",
       "0        0001BB     1300082549  01/01/2018  31/01/2018      2 447     316,46\n",
       "1        0001BB     1300082549  01/02/2018  28/02/2018      2 211     286,82\n",
       "2        0001BB     1300082549  01/03/2018  31/03/2018      2 450     317,32\n",
       "3        0001BB     1300082549  01/04/2018  30/04/2018      2 431     315,00\n",
       "4        0001BB     1300082549  01/05/2018  31/05/2018      2 574     333,37\n",
       "...         ...            ...         ...         ...        ...        ...\n",
       "51427    0632KO  FV1/055100030  30/08/2019  31/12/2019      3 028     397,18\n",
       "51428    0632KO      055100058  01/01/2020  31/03/2020      2 163     283,57\n",
       "51429    0632KO      055100113  01/04/2020  30/06/2020      2 160     312,55\n",
       "51430    0632KO      055100168  01/07/2020  30/09/2020      2 230     294,07\n",
       "51431    1203KO     7220278453  27/09/2019  31/12/2019      4 745     681,96\n",
       "\n",
       "[51432 rows x 6 columns]"
      ]
     },
     "execution_count": 128,
     "metadata": {},
     "output_type": "execute_result"
    }
   ],
   "source": [
    "# 1) Le nom d'une antenne a un format bien précis : il est toujours composé de 4 chiffres et de deux lettres. On te demande de retirer tout autre caractère de la colonne \"SITE_NAME\".\n",
    "df['SITE_NAME'] = df['SITE_NAME'].str[11:17]\n",
    "\n",
    "def clean_site_name(site_name):\n",
    "    result = re.search(\"\\d{4}[a-zA-Z]{2}\", site_name)\n",
    "    if result is None:\n",
    "        return np.NaN\n",
    "    else:\n",
    "        return site_name\n",
    "    return result\n",
    "\n",
    "df[\"SITE_NAME\"] = [clean_site_name(site_name) for site_name in df[\"SITE_NAME\"]]\n",
    "df"
   ]
  },
  {
   "cell_type": "markdown",
   "id": "c979ab25",
   "metadata": {},
   "source": [
    "### 2) Suppresion de invoice name "
   ]
  },
  {
   "cell_type": "code",
   "execution_count": 129,
   "id": "fb0b5ce1",
   "metadata": {},
   "outputs": [],
   "source": [
    "df = df.drop(['INVOICE_NAME'], axis = 1)"
   ]
  },
  {
   "cell_type": "markdown",
   "id": "c28ff236",
   "metadata": {},
   "source": [
    "### 3) Il y a des antennes pour lesquelles on a des factures mensuelles tandis que pour d'autres, on les reçoit moins régulièrement (trimestre, semestre, année). Ajoute une colonne à ton tableau qui calcule le nombre de jours entre le début de la période de facturation et la fin de la période de facturation. "
   ]
  },
  {
   "cell_type": "code",
   "execution_count": 130,
   "id": "fda54900",
   "metadata": {},
   "outputs": [
    {
     "data": {
      "text/html": [
       "<div>\n",
       "<style scoped>\n",
       "    .dataframe tbody tr th:only-of-type {\n",
       "        vertical-align: middle;\n",
       "    }\n",
       "\n",
       "    .dataframe tbody tr th {\n",
       "        vertical-align: top;\n",
       "    }\n",
       "\n",
       "    .dataframe thead th {\n",
       "        text-align: right;\n",
       "    }\n",
       "</style>\n",
       "<table border=\"1\" class=\"dataframe\">\n",
       "  <thead>\n",
       "    <tr style=\"text-align: right;\">\n",
       "      <th></th>\n",
       "      <th>SITE_NAME</th>\n",
       "      <th>BEGIN</th>\n",
       "      <th>END</th>\n",
       "      <th>KWH_PERIOD</th>\n",
       "      <th>PERIOD_EUR</th>\n",
       "    </tr>\n",
       "  </thead>\n",
       "  <tbody>\n",
       "    <tr>\n",
       "      <th>0</th>\n",
       "      <td>0001BB</td>\n",
       "      <td>2018-01-01</td>\n",
       "      <td>2018-01-31</td>\n",
       "      <td>2 447</td>\n",
       "      <td>316,46</td>\n",
       "    </tr>\n",
       "    <tr>\n",
       "      <th>1</th>\n",
       "      <td>0001BB</td>\n",
       "      <td>2018-02-01</td>\n",
       "      <td>2018-02-28</td>\n",
       "      <td>2 211</td>\n",
       "      <td>286,82</td>\n",
       "    </tr>\n",
       "    <tr>\n",
       "      <th>2</th>\n",
       "      <td>0001BB</td>\n",
       "      <td>2018-03-01</td>\n",
       "      <td>2018-03-31</td>\n",
       "      <td>2 450</td>\n",
       "      <td>317,32</td>\n",
       "    </tr>\n",
       "    <tr>\n",
       "      <th>3</th>\n",
       "      <td>0001BB</td>\n",
       "      <td>2018-04-01</td>\n",
       "      <td>2018-04-30</td>\n",
       "      <td>2 431</td>\n",
       "      <td>315,00</td>\n",
       "    </tr>\n",
       "    <tr>\n",
       "      <th>4</th>\n",
       "      <td>0001BB</td>\n",
       "      <td>2018-05-01</td>\n",
       "      <td>2018-05-31</td>\n",
       "      <td>2 574</td>\n",
       "      <td>333,37</td>\n",
       "    </tr>\n",
       "  </tbody>\n",
       "</table>\n",
       "</div>"
      ],
      "text/plain": [
       "  SITE_NAME      BEGIN        END KWH_PERIOD PERIOD_EUR\n",
       "0    0001BB 2018-01-01 2018-01-31      2 447     316,46\n",
       "1    0001BB 2018-02-01 2018-02-28      2 211     286,82\n",
       "2    0001BB 2018-03-01 2018-03-31      2 450     317,32\n",
       "3    0001BB 2018-04-01 2018-04-30      2 431     315,00\n",
       "4    0001BB 2018-05-01 2018-05-31      2 574     333,37"
      ]
     },
     "execution_count": 130,
     "metadata": {},
     "output_type": "execute_result"
    }
   ],
   "source": [
    "df[\"BEGIN\"] = pd.to_datetime(df[\"BEGIN\"], format=\"%d/%m/%Y\")\n",
    "df[\"END\"] = pd.to_datetime(df[\"END\"], format=\"%d/%m/%Y\")\n",
    "df.head()"
   ]
  },
  {
   "cell_type": "code",
   "execution_count": 134,
   "id": "3695546f",
   "metadata": {},
   "outputs": [],
   "source": [
    "df['new'] = df[\"END\"] - df[\"BEGIN\"] "
   ]
  },
  {
   "cell_type": "markdown",
   "id": "d955756b",
   "metadata": {},
   "source": [
    "### 4) A partir de cette nouvelle colonne, crée une autre colonne qui nous donne la consommation journalière moyenne de la période."
   ]
  },
  {
   "cell_type": "code",
   "execution_count": 132,
   "id": "e20158f3",
   "metadata": {},
   "outputs": [
    {
     "ename": "KeyError",
     "evalue": "'new'",
     "output_type": "error",
     "traceback": [
      "\u001b[1;31m---------------------------------------------------------------------------\u001b[0m",
      "\u001b[1;31mKeyError\u001b[0m                                  Traceback (most recent call last)",
      "File \u001b[1;32m~\\anaconda3\\lib\\site-packages\\pandas\\core\\indexes\\base.py:3621\u001b[0m, in \u001b[0;36mIndex.get_loc\u001b[1;34m(self, key, method, tolerance)\u001b[0m\n\u001b[0;32m   3620\u001b[0m \u001b[38;5;28;01mtry\u001b[39;00m:\n\u001b[1;32m-> 3621\u001b[0m     \u001b[38;5;28;01mreturn\u001b[39;00m \u001b[38;5;28;43mself\u001b[39;49m\u001b[38;5;241;43m.\u001b[39;49m\u001b[43m_engine\u001b[49m\u001b[38;5;241;43m.\u001b[39;49m\u001b[43mget_loc\u001b[49m\u001b[43m(\u001b[49m\u001b[43mcasted_key\u001b[49m\u001b[43m)\u001b[49m\n\u001b[0;32m   3622\u001b[0m \u001b[38;5;28;01mexcept\u001b[39;00m \u001b[38;5;167;01mKeyError\u001b[39;00m \u001b[38;5;28;01mas\u001b[39;00m err:\n",
      "File \u001b[1;32m~\\anaconda3\\lib\\site-packages\\pandas\\_libs\\index.pyx:136\u001b[0m, in \u001b[0;36mpandas._libs.index.IndexEngine.get_loc\u001b[1;34m()\u001b[0m\n",
      "File \u001b[1;32m~\\anaconda3\\lib\\site-packages\\pandas\\_libs\\index.pyx:163\u001b[0m, in \u001b[0;36mpandas._libs.index.IndexEngine.get_loc\u001b[1;34m()\u001b[0m\n",
      "File \u001b[1;32mpandas\\_libs\\hashtable_class_helper.pxi:5198\u001b[0m, in \u001b[0;36mpandas._libs.hashtable.PyObjectHashTable.get_item\u001b[1;34m()\u001b[0m\n",
      "File \u001b[1;32mpandas\\_libs\\hashtable_class_helper.pxi:5206\u001b[0m, in \u001b[0;36mpandas._libs.hashtable.PyObjectHashTable.get_item\u001b[1;34m()\u001b[0m\n",
      "\u001b[1;31mKeyError\u001b[0m: 'new'",
      "\nThe above exception was the direct cause of the following exception:\n",
      "\u001b[1;31mKeyError\u001b[0m                                  Traceback (most recent call last)",
      "Input \u001b[1;32mIn [132]\u001b[0m, in \u001b[0;36m<cell line: 2>\u001b[1;34m()\u001b[0m\n\u001b[0;32m      1\u001b[0m df[\u001b[38;5;124m'\u001b[39m\u001b[38;5;124mKWH_PERIOD\u001b[39m\u001b[38;5;124m'\u001b[39m] \u001b[38;5;241m=\u001b[39m df[\u001b[38;5;124m'\u001b[39m\u001b[38;5;124mKWH_PERIOD\u001b[39m\u001b[38;5;124m'\u001b[39m]\u001b[38;5;241m.\u001b[39mstr\u001b[38;5;241m.\u001b[39mreplace(\u001b[38;5;124m'\u001b[39m\u001b[38;5;124m \u001b[39m\u001b[38;5;124m'\u001b[39m, \u001b[38;5;124m'\u001b[39m\u001b[38;5;124m'\u001b[39m)\u001b[38;5;241m.\u001b[39mastype(\u001b[38;5;28mint\u001b[39m)\n\u001b[1;32m----> 2\u001b[0m df[\u001b[38;5;124m'\u001b[39m\u001b[38;5;124mnew\u001b[39m\u001b[38;5;124m'\u001b[39m] \u001b[38;5;241m=\u001b[39m \u001b[43mdf\u001b[49m\u001b[43m[\u001b[49m\u001b[38;5;124;43m'\u001b[39;49m\u001b[38;5;124;43mnew\u001b[39;49m\u001b[38;5;124;43m'\u001b[39;49m\u001b[43m]\u001b[49m\u001b[38;5;241m.\u001b[39mastype(\u001b[38;5;124m'\u001b[39m\u001b[38;5;124mtimedelta64[D]\u001b[39m\u001b[38;5;124m'\u001b[39m)\u001b[38;5;241m.\u001b[39mastype(\u001b[38;5;28mint\u001b[39m)\n",
      "File \u001b[1;32m~\\anaconda3\\lib\\site-packages\\pandas\\core\\frame.py:3505\u001b[0m, in \u001b[0;36mDataFrame.__getitem__\u001b[1;34m(self, key)\u001b[0m\n\u001b[0;32m   3503\u001b[0m \u001b[38;5;28;01mif\u001b[39;00m \u001b[38;5;28mself\u001b[39m\u001b[38;5;241m.\u001b[39mcolumns\u001b[38;5;241m.\u001b[39mnlevels \u001b[38;5;241m>\u001b[39m \u001b[38;5;241m1\u001b[39m:\n\u001b[0;32m   3504\u001b[0m     \u001b[38;5;28;01mreturn\u001b[39;00m \u001b[38;5;28mself\u001b[39m\u001b[38;5;241m.\u001b[39m_getitem_multilevel(key)\n\u001b[1;32m-> 3505\u001b[0m indexer \u001b[38;5;241m=\u001b[39m \u001b[38;5;28;43mself\u001b[39;49m\u001b[38;5;241;43m.\u001b[39;49m\u001b[43mcolumns\u001b[49m\u001b[38;5;241;43m.\u001b[39;49m\u001b[43mget_loc\u001b[49m\u001b[43m(\u001b[49m\u001b[43mkey\u001b[49m\u001b[43m)\u001b[49m\n\u001b[0;32m   3506\u001b[0m \u001b[38;5;28;01mif\u001b[39;00m is_integer(indexer):\n\u001b[0;32m   3507\u001b[0m     indexer \u001b[38;5;241m=\u001b[39m [indexer]\n",
      "File \u001b[1;32m~\\anaconda3\\lib\\site-packages\\pandas\\core\\indexes\\base.py:3623\u001b[0m, in \u001b[0;36mIndex.get_loc\u001b[1;34m(self, key, method, tolerance)\u001b[0m\n\u001b[0;32m   3621\u001b[0m     \u001b[38;5;28;01mreturn\u001b[39;00m \u001b[38;5;28mself\u001b[39m\u001b[38;5;241m.\u001b[39m_engine\u001b[38;5;241m.\u001b[39mget_loc(casted_key)\n\u001b[0;32m   3622\u001b[0m \u001b[38;5;28;01mexcept\u001b[39;00m \u001b[38;5;167;01mKeyError\u001b[39;00m \u001b[38;5;28;01mas\u001b[39;00m err:\n\u001b[1;32m-> 3623\u001b[0m     \u001b[38;5;28;01mraise\u001b[39;00m \u001b[38;5;167;01mKeyError\u001b[39;00m(key) \u001b[38;5;28;01mfrom\u001b[39;00m \u001b[38;5;21;01merr\u001b[39;00m\n\u001b[0;32m   3624\u001b[0m \u001b[38;5;28;01mexcept\u001b[39;00m \u001b[38;5;167;01mTypeError\u001b[39;00m:\n\u001b[0;32m   3625\u001b[0m     \u001b[38;5;66;03m# If we have a listlike key, _check_indexing_error will raise\u001b[39;00m\n\u001b[0;32m   3626\u001b[0m     \u001b[38;5;66;03m#  InvalidIndexError. Otherwise we fall through and re-raise\u001b[39;00m\n\u001b[0;32m   3627\u001b[0m     \u001b[38;5;66;03m#  the TypeError.\u001b[39;00m\n\u001b[0;32m   3628\u001b[0m     \u001b[38;5;28mself\u001b[39m\u001b[38;5;241m.\u001b[39m_check_indexing_error(key)\n",
      "\u001b[1;31mKeyError\u001b[0m: 'new'"
     ]
    }
   ],
   "source": [
    "# df['KWH_PERIOD'] = df['KWH_PERIOD'].str.replace(' ', '').astype(int)\n",
    "# df['new'] = df['new'].astype('timedelta64[D]').astype(int)"
   ]
  },
  {
   "cell_type": "code",
   "execution_count": 135,
   "id": "77f4e9cd",
   "metadata": {},
   "outputs": [],
   "source": [
    "df['conso_mean'] = df['KWH_PERIOD'] / (df['new'].astype('timedelta64[D]').astype(int))"
   ]
  },
  {
   "cell_type": "code",
   "execution_count": 136,
   "id": "b8be165f",
   "metadata": {},
   "outputs": [],
   "source": [
    "df['conso_mean'] = df['conso_mean'].round(decimals = 2)"
   ]
  },
  {
   "cell_type": "markdown",
   "id": "1ee348ff",
   "metadata": {},
   "source": [
    "### 5) Merci d'ajouter également une colonne qui donne, pour chaque antenne, le nombre de factures dont on dispose au total. Pas grave si l'information se répète à chaque ligne pour une même antenne."
   ]
  },
  {
   "cell_type": "code",
   "execution_count": 137,
   "id": "e73b11d6",
   "metadata": {},
   "outputs": [],
   "source": [
    "df['freq_site'] = df.groupby('SITE_NAME')['SITE_NAME'].transform('count')"
   ]
  },
  {
   "cell_type": "markdown",
   "id": "589daca2",
   "metadata": {},
   "source": [
    "### 6) Et information bonus si tu y arrives : les équipes aimeraient beaucoup avoir une liste de toutes les antennes avec, pour chaque antenne, le coefficient de variation de la consommation. Cela permettra d'avoir une idée, pour chaque antenne, de la dispersion de sa consommation d'énergie. Coefficient de variation = (Écart-type / Moyenne) * 100"
   ]
  },
  {
   "cell_type": "code",
   "execution_count": 141,
   "id": "327c7cb4",
   "metadata": {},
   "outputs": [
    {
     "data": {
      "text/plain": [
       "SITE_NAME\n",
       "0001BB      7.412620\n",
       "0001BR      6.006796\n",
       "0001KO     11.163076\n",
       "0002BB      7.507342\n",
       "0002BR      8.952184\n",
       "             ...    \n",
       "9513BB      0.376722\n",
       "9515BB    117.872141\n",
       "9516BB      1.812700\n",
       "9517BB      0.055898\n",
       "9518BB      0.311913\n",
       "Name: KWH_PERIOD, Length: 2402, dtype: float64"
      ]
     },
     "execution_count": 141,
     "metadata": {},
     "output_type": "execute_result"
    }
   ],
   "source": [
    "df.groupby('SITE_NAME')[\"KWH_PERIOD\"].std()/df.groupby('SITE_NAME')[\"KWH_PERIOD\"].mean()*100"
   ]
  },
  {
   "cell_type": "code",
   "execution_count": 156,
   "id": "303faae8",
   "metadata": {},
   "outputs": [],
   "source": [
    "df['CV'] = df[\"KWH_PERIOD\"].std()/df[\"KWH_PERIOD\"].mean()*100"
   ]
  },
  {
   "cell_type": "code",
   "execution_count": 157,
   "id": "5b9e8fa9",
   "metadata": {},
   "outputs": [
    {
     "data": {
      "text/html": [
       "<div>\n",
       "<style scoped>\n",
       "    .dataframe tbody tr th:only-of-type {\n",
       "        vertical-align: middle;\n",
       "    }\n",
       "\n",
       "    .dataframe tbody tr th {\n",
       "        vertical-align: top;\n",
       "    }\n",
       "\n",
       "    .dataframe thead th {\n",
       "        text-align: right;\n",
       "    }\n",
       "</style>\n",
       "<table border=\"1\" class=\"dataframe\">\n",
       "  <thead>\n",
       "    <tr style=\"text-align: right;\">\n",
       "      <th></th>\n",
       "      <th>SITE_NAME</th>\n",
       "      <th>BEGIN</th>\n",
       "      <th>END</th>\n",
       "      <th>KWH_PERIOD</th>\n",
       "      <th>PERIOD_EUR</th>\n",
       "      <th>new</th>\n",
       "      <th>conso_mean</th>\n",
       "      <th>freq_site</th>\n",
       "      <th>CV</th>\n",
       "    </tr>\n",
       "  </thead>\n",
       "  <tbody>\n",
       "    <tr>\n",
       "      <th>0</th>\n",
       "      <td>0001BB</td>\n",
       "      <td>2018-01-01</td>\n",
       "      <td>2018-01-31</td>\n",
       "      <td>2447</td>\n",
       "      <td>316,46</td>\n",
       "      <td>30 days</td>\n",
       "      <td>81.57</td>\n",
       "      <td>35.0</td>\n",
       "      <td>482.321711</td>\n",
       "    </tr>\n",
       "    <tr>\n",
       "      <th>1</th>\n",
       "      <td>0001BB</td>\n",
       "      <td>2018-02-01</td>\n",
       "      <td>2018-02-28</td>\n",
       "      <td>2211</td>\n",
       "      <td>286,82</td>\n",
       "      <td>27 days</td>\n",
       "      <td>81.89</td>\n",
       "      <td>35.0</td>\n",
       "      <td>482.321711</td>\n",
       "    </tr>\n",
       "    <tr>\n",
       "      <th>2</th>\n",
       "      <td>0001BB</td>\n",
       "      <td>2018-03-01</td>\n",
       "      <td>2018-03-31</td>\n",
       "      <td>2450</td>\n",
       "      <td>317,32</td>\n",
       "      <td>30 days</td>\n",
       "      <td>81.67</td>\n",
       "      <td>35.0</td>\n",
       "      <td>482.321711</td>\n",
       "    </tr>\n",
       "    <tr>\n",
       "      <th>3</th>\n",
       "      <td>0001BB</td>\n",
       "      <td>2018-04-01</td>\n",
       "      <td>2018-04-30</td>\n",
       "      <td>2431</td>\n",
       "      <td>315,00</td>\n",
       "      <td>29 days</td>\n",
       "      <td>83.83</td>\n",
       "      <td>35.0</td>\n",
       "      <td>482.321711</td>\n",
       "    </tr>\n",
       "    <tr>\n",
       "      <th>4</th>\n",
       "      <td>0001BB</td>\n",
       "      <td>2018-05-01</td>\n",
       "      <td>2018-05-31</td>\n",
       "      <td>2574</td>\n",
       "      <td>333,37</td>\n",
       "      <td>30 days</td>\n",
       "      <td>85.80</td>\n",
       "      <td>35.0</td>\n",
       "      <td>482.321711</td>\n",
       "    </tr>\n",
       "  </tbody>\n",
       "</table>\n",
       "</div>"
      ],
      "text/plain": [
       "  SITE_NAME      BEGIN        END  KWH_PERIOD PERIOD_EUR     new  conso_mean  \\\n",
       "0    0001BB 2018-01-01 2018-01-31        2447     316,46 30 days       81.57   \n",
       "1    0001BB 2018-02-01 2018-02-28        2211     286,82 27 days       81.89   \n",
       "2    0001BB 2018-03-01 2018-03-31        2450     317,32 30 days       81.67   \n",
       "3    0001BB 2018-04-01 2018-04-30        2431     315,00 29 days       83.83   \n",
       "4    0001BB 2018-05-01 2018-05-31        2574     333,37 30 days       85.80   \n",
       "\n",
       "   freq_site          CV  \n",
       "0       35.0  482.321711  \n",
       "1       35.0  482.321711  \n",
       "2       35.0  482.321711  \n",
       "3       35.0  482.321711  \n",
       "4       35.0  482.321711  "
      ]
     },
     "execution_count": 157,
     "metadata": {},
     "output_type": "execute_result"
    }
   ],
   "source": [
    "df.head()"
   ]
  },
  {
   "cell_type": "markdown",
   "id": "c5d0f182",
   "metadata": {},
   "source": [
    "### 7) Enfin, tu dois exporter ces deux fichiers obtenus pour pouvoir l'envoyer aux équipes de l'opérateur et leur demander si c'est bien cela qu'ils attendaient de toi."
   ]
  },
  {
   "cell_type": "code",
   "execution_count": 158,
   "id": "39268470",
   "metadata": {},
   "outputs": [],
   "source": [
    "df.to_csv('energizes_new.csv')"
   ]
  }
 ],
 "metadata": {
  "kernelspec": {
   "display_name": "Python 3 (ipykernel)",
   "language": "python",
   "name": "python3"
  },
  "language_info": {
   "codemirror_mode": {
    "name": "ipython",
    "version": 3
   },
   "file_extension": ".py",
   "mimetype": "text/x-python",
   "name": "python",
   "nbconvert_exporter": "python",
   "pygments_lexer": "ipython3",
   "version": "3.9.12"
  }
 },
 "nbformat": 4,
 "nbformat_minor": 5
}
